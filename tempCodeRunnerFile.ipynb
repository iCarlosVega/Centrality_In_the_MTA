train_lines['R'] = train_lines['R'].drop('Borough' == 'SI')
